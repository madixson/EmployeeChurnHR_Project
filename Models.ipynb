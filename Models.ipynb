{
  "nbformat": 4,
  "nbformat_minor": 0,
  "metadata": {
    "colab": {
      "provenance": [],
      "authorship_tag": "ABX9TyO9/f44rUZvRAC5y8iravc2",
      "include_colab_link": true
    },
    "kernelspec": {
      "name": "python3",
      "display_name": "Python 3"
    },
    "language_info": {
      "name": "python"
    }
  },
  "cells": [
    {
      "cell_type": "markdown",
      "metadata": {
        "id": "view-in-github",
        "colab_type": "text"
      },
      "source": [
        "<a href=\"https://colab.research.google.com/github/madixson/EmployeeChurnHR_Project/blob/main/Models.ipynb\" target=\"_parent\"><img src=\"https://colab.research.google.com/assets/colab-badge.svg\" alt=\"Open In Colab\"/></a>"
      ]
    },
    {
      "cell_type": "markdown",
      "source": [
        "## Connect Notebook to Google Drive\n",
        "For file accessing"
      ],
      "metadata": {
        "id": "9unJTf5sF4NZ"
      }
    },
    {
      "cell_type": "code",
      "execution_count": 1,
      "metadata": {
        "colab": {
          "base_uri": "https://localhost:8080/"
        },
        "id": "cM9vU5EGFmk6",
        "outputId": "abcba14e-ae98-4d2e-d812-0cf4d045d591"
      },
      "outputs": [
        {
          "output_type": "stream",
          "name": "stdout",
          "text": [
            "Mounted at /content/drive\n"
          ]
        }
      ],
      "source": [
        "from google.colab import drive\n",
        "drive.mount('/content/drive')"
      ]
    },
    {
      "cell_type": "markdown",
      "source": [
        "## Import Necessary Libraries"
      ],
      "metadata": {
        "id": "54V4twN8F7rh"
      }
    },
    {
      "cell_type": "code",
      "source": [
        "import pandas as pd\n",
        "import numpy as np\n",
        "\n",
        "from sklearn.preprocessing import StandardScaler\n",
        "from sklearn.model_selection import train_test_split\n",
        "from sklearn.metrics import classification_report, confusion_matrix\n",
        "\n",
        "# KNN\n",
        "from sklearn.neighbors import KNeighborsClassifier\n",
        "\n",
        "# RandomForestClassifier\n",
        "from sklearn.ensemble import RandomForestClassifier\n",
        "from sklearn.model_selection import cross_val_score\n",
        "from sklearn.tree import plot_tree\n",
        "\n",
        "# Bayes\n",
        "from sklearn.naive_bayes import GaussianNB\n",
        "\n",
        "# Logistic Regression\n",
        "from sklearn.linear_model import LogisticRegression\n",
        "\n",
        "# NN\n",
        "from keras.models import Sequential\n",
        "from keras.layers import Dense"
      ],
      "metadata": {
        "id": "-qfVREHhF_94"
      },
      "execution_count": 14,
      "outputs": []
    },
    {
      "cell_type": "markdown",
      "source": [
        "## Load Data\n",
        "**Note: Edit the correct file pathing to your datasets"
      ],
      "metadata": {
        "id": "DKL-FXOPGAk7"
      }
    },
    {
      "cell_type": "code",
      "source": [
        "# Load in CSV dataset\n",
        "df = pd.read_csv('/content/drive/MyDrive/EmployeeChurnProject/NewEmployeeData.csv')\n",
        "target = pd.read_csv('/content/drive/MyDrive/EmployeeChurnProject/target_col.csv')"
      ],
      "metadata": {
        "id": "1zz2_hPPGEA4"
      },
      "execution_count": 3,
      "outputs": []
    },
    {
      "cell_type": "markdown",
      "source": [
        "## Model Settings"
      ],
      "metadata": {
        "id": "4VNBVi4CGPeH"
      }
    },
    {
      "cell_type": "code",
      "source": [
        "# Label predictive variable and remove from dataset & convert to np array\n",
        "y = np.array(target)  # Convert target variable to numpy array\n",
        "X = np.array(df)  # Convert features to numpy array\n",
        "feature_list = list(df.columns)\n",
        "\n",
        "# Split data into training and testing sets\n",
        "X_train, X_test, y_train, y_test = train_test_split(X, y, test_size=0.3)\n",
        "\n",
        "# Standardize features by removing the mean and scaling to unit variance\n",
        "scaler = StandardScaler()  \n",
        "scaler.fit(X_train)  # Fit the scaler to the training data\n",
        "X_train = scaler.transform(X_train)  # Scale the training data\n",
        "X_test = scaler.transform(X_test)  # Scale the test data using the same scaler as the training data"
      ],
      "metadata": {
        "id": "NtMXMjwFGZut"
      },
      "execution_count": 10,
      "outputs": []
    },
    {
      "cell_type": "markdown",
      "source": [
        "## Models"
      ],
      "metadata": {
        "id": "eUXqlqhSJFln"
      }
    },
    {
      "cell_type": "markdown",
      "source": [
        "### KNN"
      ],
      "metadata": {
        "id": "9L5Ii0MoHPJU"
      }
    },
    {
      "cell_type": "code",
      "source": [
        "# Instantiate KNeighborsClassifier object\n",
        "knn = KNeighborsClassifier(n_neighbors = 2, metric = 'euclidean')\n",
        "\n",
        "# Train the model on the training set\n",
        "knn.fit(X_train, y_train)\n",
        "\n",
        "# Predict the target variable on the test set\n",
        "y_pred = knn.predict(X_test)\n",
        "\n",
        "# Print results\n",
        "print(confusion_matrix(y_test, y_pred))\n",
        "print(classification_report(y_test, y_pred))"
      ],
      "metadata": {
        "colab": {
          "base_uri": "https://localhost:8080/"
        },
        "id": "EN4HsDjNGlvi",
        "outputId": "ba9cad23-d363-4174-d77d-1a9e645e6883"
      },
      "execution_count": 15,
      "outputs": [
        {
          "output_type": "stream",
          "name": "stderr",
          "text": [
            "/usr/local/lib/python3.10/dist-packages/sklearn/neighbors/_classification.py:215: DataConversionWarning: A column-vector y was passed when a 1d array was expected. Please change the shape of y to (n_samples,), for example using ravel().\n",
            "  return self._fit(X, y)\n"
          ]
        },
        {
          "output_type": "stream",
          "name": "stdout",
          "text": [
            "[[3417    0]\n",
            " [   2 1081]]\n",
            "              precision    recall  f1-score   support\n",
            "\n",
            "           0       1.00      1.00      1.00      3417\n",
            "           1       1.00      1.00      1.00      1083\n",
            "\n",
            "    accuracy                           1.00      4500\n",
            "   macro avg       1.00      1.00      1.00      4500\n",
            "weighted avg       1.00      1.00      1.00      4500\n",
            "\n"
          ]
        }
      ]
    },
    {
      "cell_type": "markdown",
      "source": [
        "### Random Forest"
      ],
      "metadata": {
        "id": "NRLzQDtjICAf"
      }
    },
    {
      "cell_type": "code",
      "source": [
        "# Random forest model creation\n",
        "rfc = RandomForestClassifier()\n",
        "rfc.fit(X_train, y_train)\n",
        "\n",
        "# Predictions\n",
        "rfc_predict = rfc.predict(X_test)\n",
        "rfc_cv_score = cross_val_score(rfc, X, y, cv=10, scoring='roc_auc')\n",
        "\n",
        "# Print Results\n",
        "print(confusion_matrix(y_test, y_pred))\n",
        "print(classification_report(y_test, y_pred))"
      ],
      "metadata": {
        "colab": {
          "base_uri": "https://localhost:8080/"
        },
        "id": "4SuzYTVkIF0s",
        "outputId": "0f732323-a6cf-4b09-d512-90db56c0496e"
      },
      "execution_count": 16,
      "outputs": [
        {
          "output_type": "stream",
          "name": "stderr",
          "text": [
            "<ipython-input-16-cc7e5572b8f6>:3: DataConversionWarning: A column-vector y was passed when a 1d array was expected. Please change the shape of y to (n_samples,), for example using ravel().\n",
            "  rfc.fit(X_train, y_train)\n",
            "/usr/local/lib/python3.10/dist-packages/sklearn/model_selection/_validation.py:686: DataConversionWarning: A column-vector y was passed when a 1d array was expected. Please change the shape of y to (n_samples,), for example using ravel().\n",
            "  estimator.fit(X_train, y_train, **fit_params)\n",
            "/usr/local/lib/python3.10/dist-packages/sklearn/model_selection/_validation.py:686: DataConversionWarning: A column-vector y was passed when a 1d array was expected. Please change the shape of y to (n_samples,), for example using ravel().\n",
            "  estimator.fit(X_train, y_train, **fit_params)\n",
            "/usr/local/lib/python3.10/dist-packages/sklearn/model_selection/_validation.py:686: DataConversionWarning: A column-vector y was passed when a 1d array was expected. Please change the shape of y to (n_samples,), for example using ravel().\n",
            "  estimator.fit(X_train, y_train, **fit_params)\n",
            "/usr/local/lib/python3.10/dist-packages/sklearn/model_selection/_validation.py:686: DataConversionWarning: A column-vector y was passed when a 1d array was expected. Please change the shape of y to (n_samples,), for example using ravel().\n",
            "  estimator.fit(X_train, y_train, **fit_params)\n",
            "/usr/local/lib/python3.10/dist-packages/sklearn/model_selection/_validation.py:686: DataConversionWarning: A column-vector y was passed when a 1d array was expected. Please change the shape of y to (n_samples,), for example using ravel().\n",
            "  estimator.fit(X_train, y_train, **fit_params)\n",
            "/usr/local/lib/python3.10/dist-packages/sklearn/model_selection/_validation.py:686: DataConversionWarning: A column-vector y was passed when a 1d array was expected. Please change the shape of y to (n_samples,), for example using ravel().\n",
            "  estimator.fit(X_train, y_train, **fit_params)\n",
            "/usr/local/lib/python3.10/dist-packages/sklearn/model_selection/_validation.py:686: DataConversionWarning: A column-vector y was passed when a 1d array was expected. Please change the shape of y to (n_samples,), for example using ravel().\n",
            "  estimator.fit(X_train, y_train, **fit_params)\n",
            "/usr/local/lib/python3.10/dist-packages/sklearn/model_selection/_validation.py:686: DataConversionWarning: A column-vector y was passed when a 1d array was expected. Please change the shape of y to (n_samples,), for example using ravel().\n",
            "  estimator.fit(X_train, y_train, **fit_params)\n",
            "/usr/local/lib/python3.10/dist-packages/sklearn/model_selection/_validation.py:686: DataConversionWarning: A column-vector y was passed when a 1d array was expected. Please change the shape of y to (n_samples,), for example using ravel().\n",
            "  estimator.fit(X_train, y_train, **fit_params)\n",
            "/usr/local/lib/python3.10/dist-packages/sklearn/model_selection/_validation.py:686: DataConversionWarning: A column-vector y was passed when a 1d array was expected. Please change the shape of y to (n_samples,), for example using ravel().\n",
            "  estimator.fit(X_train, y_train, **fit_params)\n"
          ]
        },
        {
          "output_type": "stream",
          "name": "stdout",
          "text": [
            "[[3417    0]\n",
            " [   2 1081]]\n",
            "              precision    recall  f1-score   support\n",
            "\n",
            "           0       1.00      1.00      1.00      3417\n",
            "           1       1.00      1.00      1.00      1083\n",
            "\n",
            "    accuracy                           1.00      4500\n",
            "   macro avg       1.00      1.00      1.00      4500\n",
            "weighted avg       1.00      1.00      1.00      4500\n",
            "\n"
          ]
        }
      ]
    },
    {
      "cell_type": "markdown",
      "source": [
        "### Naive Bayes"
      ],
      "metadata": {
        "id": "agNpuR2NIRhH"
      }
    },
    {
      "cell_type": "code",
      "source": [
        "# Naive Bayes model creation\n",
        "GNB = GaussianNB()\n",
        "GNB.fit(X_train, y_train)\n",
        "\n",
        "# Predict the target variable on the test set\n",
        "y_pred = GNB.predict(X_test)\n",
        "\n",
        "# Print results\n",
        "print(confusion_matrix(y_test, y_pred))\n",
        "print(classification_report(y_test, y_pred))"
      ],
      "metadata": {
        "colab": {
          "base_uri": "https://localhost:8080/"
        },
        "id": "kHi0xIiMIUSG",
        "outputId": "74a138a0-b494-43a5-feff-ace6411025bf"
      },
      "execution_count": 17,
      "outputs": [
        {
          "output_type": "stream",
          "name": "stdout",
          "text": [
            "[[3417    0]\n",
            " [   0 1083]]\n",
            "              precision    recall  f1-score   support\n",
            "\n",
            "           0       1.00      1.00      1.00      3417\n",
            "           1       1.00      1.00      1.00      1083\n",
            "\n",
            "    accuracy                           1.00      4500\n",
            "   macro avg       1.00      1.00      1.00      4500\n",
            "weighted avg       1.00      1.00      1.00      4500\n",
            "\n"
          ]
        },
        {
          "output_type": "stream",
          "name": "stderr",
          "text": [
            "/usr/local/lib/python3.10/dist-packages/sklearn/utils/validation.py:1143: DataConversionWarning: A column-vector y was passed when a 1d array was expected. Please change the shape of y to (n_samples, ), for example using ravel().\n",
            "  y = column_or_1d(y, warn=True)\n"
          ]
        }
      ]
    },
    {
      "cell_type": "markdown",
      "source": [
        "### Logistic Regression"
      ],
      "metadata": {
        "id": "8PMMYtu4IsoC"
      }
    },
    {
      "cell_type": "code",
      "source": [
        "# logistic regression model creation\n",
        "lr = LogisticRegression(max_iter=1000)\n",
        "lr.fit(X_train, y_train)\n",
        "\n",
        "# predictions\n",
        "lr_predict = lr.predict(X_test)\n",
        "\n",
        "# evaluation\n",
        "print(confusion_matrix(y_test, lr_predict))\n",
        "print(classification_report(y_test, lr_predict))"
      ],
      "metadata": {
        "colab": {
          "base_uri": "https://localhost:8080/"
        },
        "id": "-HgOeocVIxZe",
        "outputId": "f65d1f0c-255b-45e7-ade4-9cb64ce78305"
      },
      "execution_count": 18,
      "outputs": [
        {
          "output_type": "stream",
          "name": "stderr",
          "text": [
            "/usr/local/lib/python3.10/dist-packages/sklearn/utils/validation.py:1143: DataConversionWarning: A column-vector y was passed when a 1d array was expected. Please change the shape of y to (n_samples, ), for example using ravel().\n",
            "  y = column_or_1d(y, warn=True)\n"
          ]
        },
        {
          "output_type": "stream",
          "name": "stdout",
          "text": [
            "[[3417    0]\n",
            " [   0 1083]]\n",
            "              precision    recall  f1-score   support\n",
            "\n",
            "           0       1.00      1.00      1.00      3417\n",
            "           1       1.00      1.00      1.00      1083\n",
            "\n",
            "    accuracy                           1.00      4500\n",
            "   macro avg       1.00      1.00      1.00      4500\n",
            "weighted avg       1.00      1.00      1.00      4500\n",
            "\n"
          ]
        }
      ]
    },
    {
      "cell_type": "markdown",
      "source": [
        "### MLP Neural Network"
      ],
      "metadata": {
        "id": "EvvruGfZI0Lr"
      }
    },
    {
      "cell_type": "code",
      "source": [
        "# neural network model creation\n",
        "nn = Sequential()\n",
        "nn.add(Dense(64, input_dim=X_train.shape[1], activation='relu'))\n",
        "nn.add(Dense(32, activation='relu'))\n",
        "nn.add(Dense(1, activation='sigmoid'))\n",
        "\n",
        "nn.compile(loss='binary_crossentropy', optimizer='adam', metrics=['accuracy'])\n",
        "\n",
        "# training\n",
        "nn.fit(X_train, y_train, epochs=50, batch_size=32, verbose=0)\n",
        "\n",
        "# predictions\n",
        "nn_prob = nn.predict(X_test)\n",
        "nn_predict = (nn_prob > 0.5).astype(int)\n",
        "\n",
        "# evaluation\n",
        "print(confusion_matrix(y_test, nn_predict))\n",
        "print(classification_report(y_test, nn_predict))"
      ],
      "metadata": {
        "colab": {
          "base_uri": "https://localhost:8080/"
        },
        "id": "YXXOlpg9I592",
        "outputId": "1d56e765-d82d-4d66-e9c6-49d9c528cc74"
      },
      "execution_count": 19,
      "outputs": [
        {
          "output_type": "stream",
          "name": "stdout",
          "text": [
            "141/141 [==============================] - 0s 2ms/step\n",
            "[[3417    0]\n",
            " [   0 1083]]\n",
            "              precision    recall  f1-score   support\n",
            "\n",
            "           0       1.00      1.00      1.00      3417\n",
            "           1       1.00      1.00      1.00      1083\n",
            "\n",
            "    accuracy                           1.00      4500\n",
            "   macro avg       1.00      1.00      1.00      4500\n",
            "weighted avg       1.00      1.00      1.00      4500\n",
            "\n"
          ]
        }
      ]
    }
  ]
}
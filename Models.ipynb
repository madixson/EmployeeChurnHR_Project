{
  "nbformat": 4,
  "nbformat_minor": 0,
  "metadata": {
    "colab": {
      "provenance": [],
      "authorship_tag": "ABX9TyPHSQLaeCkAbbwJx/E/w4RB",
      "include_colab_link": true
    },
    "kernelspec": {
      "name": "python3",
      "display_name": "Python 3"
    },
    "language_info": {
      "name": "python"
    }
  },
  "cells": [
    {
      "cell_type": "markdown",
      "metadata": {
        "id": "view-in-github",
        "colab_type": "text"
      },
      "source": [
        "<a href=\"https://colab.research.google.com/github/madixson/EmployeeChurnHR_Project/blob/main/Models.ipynb\" target=\"_parent\"><img src=\"https://colab.research.google.com/assets/colab-badge.svg\" alt=\"Open In Colab\"/></a>"
      ]
    },
    {
      "cell_type": "markdown",
      "source": [
        "## Connect Notebook to Google Drive\n",
        "For file accessing"
      ],
      "metadata": {
        "id": "9unJTf5sF4NZ"
      }
    },
    {
      "cell_type": "code",
      "execution_count": 1,
      "metadata": {
        "colab": {
          "base_uri": "https://localhost:8080/"
        },
        "id": "cM9vU5EGFmk6",
        "outputId": "abcba14e-ae98-4d2e-d812-0cf4d045d591"
      },
      "outputs": [
        {
          "output_type": "stream",
          "name": "stdout",
          "text": [
            "Mounted at /content/drive\n"
          ]
        }
      ],
      "source": [
        "from google.colab import drive\n",
        "drive.mount('/content/drive')"
      ]
    },
    {
      "cell_type": "markdown",
      "source": [
        "## Import Necessary Libraries"
      ],
      "metadata": {
        "id": "54V4twN8F7rh"
      }
    },
    {
      "cell_type": "code",
      "source": [
        "import pandas as pd\n",
        "import numpy as np\n",
        "\n",
        "from sklearn.preprocessing import StandardScaler\n",
        "from sklearn.model_selection import train_test_split"
      ],
      "metadata": {
        "id": "-qfVREHhF_94"
      },
      "execution_count": 8,
      "outputs": []
    },
    {
      "cell_type": "markdown",
      "source": [
        "## Load Data\n",
        "**Note: Edit the correct file pathing to your datasets"
      ],
      "metadata": {
        "id": "DKL-FXOPGAk7"
      }
    },
    {
      "cell_type": "code",
      "source": [
        "# Load in CSV dataset\n",
        "df = pd.read_csv('/content/drive/MyDrive/EmployeeChurnProject/NewEmployeeData.csv')\n",
        "target = pd.read_csv('/content/drive/MyDrive/EmployeeChurnProject/target_col.csv')"
      ],
      "metadata": {
        "id": "1zz2_hPPGEA4"
      },
      "execution_count": 3,
      "outputs": []
    },
    {
      "cell_type": "markdown",
      "source": [
        "## Model Settings"
      ],
      "metadata": {
        "id": "4VNBVi4CGPeH"
      }
    },
    {
      "cell_type": "code",
      "source": [
        "# Label predictive variable and remove from dataset & convert to np array\n",
        "y = np.array(target)  # Convert target variable to numpy array\n",
        "X = np.array(df)  # Convert features to numpy array\n",
        "feature_list = list(df.columns)\n",
        "\n",
        "# Split data into training and testing sets\n",
        "X_train, X_test, y_train, y_test = train_test_split(X, y, test_size=0.3)\n",
        "\n",
        "# Standardize features by removing the mean and scaling to unit variance\n",
        "scaler = StandardScaler()  \n",
        "scaler.fit(X_train)  # Fit the scaler to the training data\n",
        "X_train = scaler.transform(X_train)  # Scale the training data\n",
        "X_test = scaler.transform(X_test)  # Scale the test data using the same scaler as the training data"
      ],
      "metadata": {
        "id": "NtMXMjwFGZut"
      },
      "execution_count": 10,
      "outputs": []
    },
    {
      "cell_type": "code",
      "source": [],
      "metadata": {
        "id": "EN4HsDjNGlvi"
      },
      "execution_count": null,
      "outputs": []
    }
  ]
}